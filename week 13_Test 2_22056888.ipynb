{
 "cells": [
  {
   "cell_type": "markdown",
   "id": "824e6357",
   "metadata": {},
   "source": [
    "# QUESTION 1"
   ]
  },
  {
   "cell_type": "code",
   "execution_count": 82,
   "id": "4ac6b90a",
   "metadata": {},
   "outputs": [
    {
     "data": {
      "image/png": "[encoded data removed]",
      "text/plain": [
       "<Figure size 640x480 with 1 Axes>"
      ]
     },
     "metadata": {},
     "output_type": "display_data"
    }
   ],
   "source": [
    "import numpy as np\n",
    "import matplotlib.pyplot as plt\n",
    "from scipy.integrate import odeint\n",
    "\n",
    "# DEfine ODE Function\n",
    "def ode_function(y,t):\n",
    "    dydt = -2*y*t\n",
    "    return dydt\n",
    "\n",
    "#Defining intial condition\n",
    "intial_condition = 1.0\n",
    "\n",
    "# setting interval to integrate\n",
    "t_points = np.linspace(0,2,100)\n",
    "\n",
    "#solving ODE with ode_function\n",
    "solution= odeint(ode_function, intial_condition,t_points)\n",
    "\n",
    "#plotting the solution\n",
    "plt.plot(t_points, solution, label ='y(t)')\n",
    "plt.title('Solution of dy/dt - 2yt , with y(0) = 1')\n",
    "plt.xlabel('t')\n",
    "plt.ylabel('y(t)')\n",
    "plt.legend()\n",
    "plt.grid(True)\n",
    "plt.show()\n"
   ]
  },
  {
   "cell_type": "markdown",
   "id": "9536f4ac",
   "metadata": {},
   "source": [
    "# QUESTION 2"
   ]
  },
  {
   "cell_type": "code",
   "execution_count": 77,
   "id": "98ce54a5",
   "metadata": {},
   "outputs": [],
   "source": [
    "#import necessary libraries\n",
    "import numpy as np\n",
    "import scipy as sc"
   ]
  },
  {
   "cell_type": "code",
   "execution_count": 78,
   "id": "06cda4f3",
   "metadata": {},
   "outputs": [],
   "source": [
    "#define coefficient of matrix A\n",
    "A = np.array([[2,4,6],[5,3,2],[7,8,9]])\n"
   ]
  },
  {
   "cell_type": "code",
   "execution_count": 79,
   "id": "d14d5bf5",
   "metadata": {},
   "outputs": [
    {
     "name": "stdout",
     "output_type": "stream",
     "text": [
      "[[2 4 6]\n",
      " [5 3 2]\n",
      " [7 8 9]]\n"
     ]
    }
   ],
   "source": [
    "print(A)"
   ]
  },
  {
   "cell_type": "code",
   "execution_count": 80,
   "id": "06947b2d",
   "metadata": {},
   "outputs": [],
   "source": [
    "#define coefficient of matrix B\n",
    "B= np.array ([[18],[13],[30]])"
   ]
  },
  {
   "cell_type": "code",
   "execution_count": 81,
   "id": "d153ba18",
   "metadata": {},
   "outputs": [
    {
     "name": "stdout",
     "output_type": "stream",
     "text": [
      "[[18]\n",
      " [13]\n",
      " [30]]\n"
     ]
    }
   ],
   "source": [
    "print(B)"
   ]
  },
  {
   "cell_type": "code",
   "execution_count": 72,
   "id": "435c3e93",
   "metadata": {},
   "outputs": [],
   "source": [
    "# Use solve function to find solution vector of matrix directly\n",
    "C= np.linalg.solve(A,B)"
   ]
  },
  {
   "cell_type": "code",
   "execution_count": 73,
   "id": "51a9a82b",
   "metadata": {},
   "outputs": [
    {
     "name": "stdout",
     "output_type": "stream",
     "text": [
      "[[ 4.5]\n",
      " [-7.5]\n",
      " [ 6.5]]\n"
     ]
    }
   ],
   "source": [
    "print(C)"
   ]
  },
  {
   "cell_type": "code",
   "execution_count": 74,
   "id": "ad4ad071",
   "metadata": {},
   "outputs": [],
   "source": [
    "#ALternatively calculate inv A and multiply with B to find solution vector of the matrix\n",
    "C= np.linalg.inv(A).dot(B)"
   ]
  },
  {
   "cell_type": "code",
   "execution_count": 75,
   "id": "51e4fa99",
   "metadata": {},
   "outputs": [
    {
     "name": "stdout",
     "output_type": "stream",
     "text": [
      "[[ 4.5]\n",
      " [-7.5]\n",
      " [ 6.5]]\n"
     ]
    }
   ],
   "source": [
    "print(C)"
   ]
  },
  {
   "cell_type": "markdown",
   "id": "5e909828",
   "metadata": {},
   "source": [
    "# QUESTION 3\n"
   ]
  },
  {
   "cell_type": "code",
   "execution_count": 89,
   "id": "36dd4fb7",
   "metadata": {},
   "outputs": [
    {
     "name": "stdout",
     "output_type": "stream",
     "text": [
      "Enter the number of forecast days (1-16): 2\n"
     ]
    },
    {
     "ename": "TypeError",
     "evalue": "list indices must be integers or slices, not str",
     "output_type": "error",
     "traceback": [
      "\u001b[1;31m---------------------------------------------------------------------------\u001b[0m",
      "\u001b[1;31mTypeError\u001b[0m                                 Traceback (most recent call last)",
      "Cell \u001b[1;32mIn[89], line 63\u001b[0m\n\u001b[0;32m     60\u001b[0m         plot_temperature_trend(weather_data, forecast_days)\n\u001b[0;32m     62\u001b[0m \u001b[38;5;28;01mif\u001b[39;00m \u001b[38;5;18m__name__\u001b[39m \u001b[38;5;241m==\u001b[39m \u001b[38;5;124m\"\u001b[39m\u001b[38;5;124m__main__\u001b[39m\u001b[38;5;124m\"\u001b[39m:\n\u001b[1;32m---> 63\u001b[0m     main()\n",
      "Cell \u001b[1;32mIn[89], line 60\u001b[0m, in \u001b[0;36mmain\u001b[1;34m()\u001b[0m\n\u001b[0;32m     56\u001b[0m weather_data \u001b[38;5;241m=\u001b[39m get_weather_data(latitude, longitude, timezone, forecast_days)\n\u001b[0;32m     58\u001b[0m \u001b[38;5;28;01mif\u001b[39;00m weather_data:\n\u001b[0;32m     59\u001b[0m     \u001b[38;5;66;03m# Plot temperature trend\u001b[39;00m\n\u001b[1;32m---> 60\u001b[0m     plot_temperature_trend(weather_data, forecast_days)\n",
      "Cell \u001b[1;32mIn[89], line 23\u001b[0m, in \u001b[0;36mplot_temperature_trend\u001b[1;34m(weather_data, forecast_days)\u001b[0m\n\u001b[0;32m     22\u001b[0m \u001b[38;5;28;01mdef\u001b[39;00m \u001b[38;5;21mplot_temperature_trend\u001b[39m(weather_data, forecast_days):\n\u001b[1;32m---> 23\u001b[0m     hourly_data \u001b[38;5;241m=\u001b[39m weather_data[\u001b[38;5;124m\"\u001b[39m\u001b[38;5;124mhourly\u001b[39m\u001b[38;5;124m\"\u001b[39m][\u001b[38;5;124m\"\u001b[39m\u001b[38;5;124mtemperature_2m\u001b[39m\u001b[38;5;124m\"\u001b[39m]\n\u001b[0;32m     25\u001b[0m     times \u001b[38;5;241m=\u001b[39m [entry[\u001b[38;5;124m\"\u001b[39m\u001b[38;5;124mtimestamp\u001b[39m\u001b[38;5;124m\"\u001b[39m] \u001b[38;5;28;01mfor\u001b[39;00m entry \u001b[38;5;129;01min\u001b[39;00m hourly_data]\n\u001b[0;32m     26\u001b[0m     temperatures \u001b[38;5;241m=\u001b[39m [entry[\u001b[38;5;124m\"\u001b[39m\u001b[38;5;124mvalue\u001b[39m\u001b[38;5;124m\"\u001b[39m] \u001b[38;5;28;01mfor\u001b[39;00m entry \u001b[38;5;129;01min\u001b[39;00m hourly_data]\n",
      "\u001b[1;31mTypeError\u001b[0m: list indices must be integers or slices, not str"
     ]
    }
   ],
   "source": [
    "import requests\n",
    "import matplotlib.pyplot as plt\n",
    "\n",
    "def get_weather_data(latitude, longitude, timezone, forecast_days):\n",
    "    url = \"https://api.open-meteo.com/v1/forecast?latitude=2.5&longitude=112.5&hourly=temperature_2m&timezone=Asia%2FSingapore&forecast_days=1\"\n",
    "    params = {\n",
    "        \"latitude\": latitude,\n",
    "        \"longitude\": longitude,\n",
    "        \"timezone\": timezone,\n",
    "        \"hourly\": \"temperature_2m\",\n",
    "        \"forecast_days\": forecast_days\n",
    "    }\n",
    "\n",
    "    response = requests.get(url, params=params)\n",
    "\n",
    "    if response.status_code == 200:\n",
    "        return response.json()\n",
    "    else:\n",
    "        print(f\"Error: Unable to retrieve weather data. Status code: {response.status_code}\")\n",
    "        return None\n",
    "\n",
    "def plot_temperature_trend(weather_data, forecast_days):\n",
    "    hourly_data = weather_data[\"hourly\"][\"temperature_2m\"]\n",
    "\n",
    "    times = [entry[\"timestamp\"] for entry in hourly_data]\n",
    "    temperatures = [entry[\"value\"] for entry in hourly_data]\n",
    "\n",
    "    plt.plot(times, temperatures, marker='o', linestyle='-', color='b')\n",
    "    plt.xlabel(\"Time\")\n",
    "    plt.ylabel(\"Temperature (°C)\")\n",
    "    plt.title(f\"Hourly Temperature Trend\\nLatitude: {latitude}, Longitude: {longitude}, Forecast Days: {forecast_days}\")\n",
    "    plt.grid(True)\n",
    "    plt.xticks(rotation=45)\n",
    "    plt.show()\n",
    "\n",
    "def main():\n",
    "    valid_days_range = range(1, 17)\n",
    "\n",
    "    # Get user input for the number of forecast days\n",
    "    while True:\n",
    "        try:\n",
    "            forecast_days = int(input(\"Enter the number of forecast days (1-16): \"))\n",
    "            if forecast_days in valid_days_range:\n",
    "                break\n",
    "            else:\n",
    "                print(\"Invalid input. Please enter a number between 1 and 16.\")\n",
    "        except ValueError:\n",
    "            print(\"Invalid input. Please enter a valid number.\")\n",
    "\n",
    "    # Specify location details\n",
    "    latitude = 2.375\n",
    "    longitude = 112.5\n",
    "    timezone = \"Asia/Singapore\"\n",
    "\n",
    "    # Get weather data\n",
    "    weather_data = get_weather_data(latitude, longitude, timezone, forecast_days)\n",
    "\n",
    "    if weather_data:\n",
    "        # Plot temperature trend\n",
    "        plot_temperature_trend(weather_data, forecast_days)\n",
    "\n",
    "if __name__ == \"__main__\":\n",
    "    main()\n"
   ]
  },
  {
   "cell_type": "code",
   "execution_count": null,
   "id": "be225483",
   "metadata": {},
   "outputs": [],
   "source": []
  }
 ],
 "metadata": {
  "kernelspec": {
   "display_name": "Python 3 (ipykernel)",
   "language": "python",
   "name": "python3"
  },
  "language_info": {
   "codemirror_mode": {
    "name": "ipython",
    "version": 3
   },
   "file_extension": ".py",
   "mimetype": "text/x-python",
   "name": "python",
   "nbconvert_exporter": "python",
   "pygments_lexer": "ipython3",
   "version": "3.11.5"
  }
 },
 "nbformat": 4,
 "nbformat_minor": 5
}
