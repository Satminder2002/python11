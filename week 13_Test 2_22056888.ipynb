{
 "cells": [
  {
   "cell_type": "markdown",
   "id": "fe4e83c5",
   "metadata": {},
   "source": [
    "# QUESTION 2"
   ]
  },
  {
   "cell_type": "code",
   "execution_count": 55,
   "id": "bf3d104b",
   "metadata": {},
   "outputs": [],
   "source": [
    "#import necessary libraries\n",
    "import numpy as np\n",
    "import scipy as sc"
   ]
  },
  {
   "cell_type": "code",
   "execution_count": 56,
   "id": "1de4397a",
   "metadata": {},
   "outputs": [],
   "source": [
    "#define coefficient of matrix A\n",
    "A = np.array([[2,4,6],[5,3,2],[7,8,9]])\n"
   ]
  },
  {
   "cell_type": "code",
   "execution_count": 57,
   "id": "2284e575",
   "metadata": {},
   "outputs": [
    {
     "name": "stdout",
     "output_type": "stream",
     "text": [
      "[[2 4 6]\n",
      " [5 3 2]\n",
      " [7 8 9]]\n"
     ]
    }
   ],
   "source": [
    "print(A)"
   ]
  },
  {
   "cell_type": "code",
   "execution_count": 58,
   "id": "b5a57837",
   "metadata": {},
   "outputs": [],
   "source": [
    "#define coefficient of matrix B\n",
    "B= np.array ([[18],[13],[30]])"
   ]
  },
  {
   "cell_type": "code",
   "execution_count": 59,
   "id": "4df3c24f",
   "metadata": {},
   "outputs": [
    {
     "name": "stdout",
     "output_type": "stream",
     "text": [
      "[[18]\n",
      " [13]\n",
      " [30]]\n"
     ]
    }
   ],
   "source": [
    "print(B)"
   ]
  },
  {
   "cell_type": "code",
   "execution_count": 72,
   "id": "8b47ded1",
   "metadata": {},
   "outputs": [],
   "source": [
    "# Use solve function to find solution vector of matrix directly\n",
    "C= np.linalg.solve(A,B)"
   ]
  },
  {
   "cell_type": "code",
   "execution_count": 73,
   "id": "384fbd45",
   "metadata": {},
   "outputs": [
    {
     "name": "stdout",
     "output_type": "stream",
     "text": [
      "[[ 4.5]\n",
      " [-7.5]\n",
      " [ 6.5]]\n"
     ]
    }
   ],
   "source": [
    "print(C)"
   ]
  },
  {
   "cell_type": "code",
   "execution_count": 74,
   "id": "90443ee7",
   "metadata": {},
   "outputs": [],
   "source": [
    "#ALternatively calculate inv A and multiply with B to find solution vector of the matrix\n",
    "C= np.linalg.inv(A).dot(B)"
   ]
  },
  {
   "cell_type": "code",
   "execution_count": 75,
   "id": "868d5655",
   "metadata": {},
   "outputs": [
    {
     "name": "stdout",
     "output_type": "stream",
     "text": [
      "[[ 4.5]\n",
      " [-7.5]\n",
      " [ 6.5]]\n"
     ]
    }
   ],
   "source": [
    "print(C)"
   ]
  },
  {
   "cell_type": "code",
   "execution_count": null,
   "id": "51da4987",
   "metadata": {},
   "outputs": [],
   "source": []
  }
 ],
 "metadata": {
  "kernelspec": {
   "display_name": "Python 3 (ipykernel)",
   "language": "python",
   "name": "python3"
  },
  "language_info": {
   "codemirror_mode": {
    "name": "ipython",
    "version": 3
   },
   "file_extension": ".py",
   "mimetype": "text/x-python",
   "name": "python",
   "nbconvert_exporter": "python",
   "pygments_lexer": "ipython3",
   "version": "3.11.5"
  }
 },
 "nbformat": 4,
 "nbformat_minor": 5
}
