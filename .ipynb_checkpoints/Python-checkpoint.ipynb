{
 "cells": [
  {
   "cell_type": "code",
   "execution_count": null,
   "id": "3ae61658",
   "metadata": {},
   "outputs": [],
   "source": [
    "grade= int(input())\n",
    "\n",
    "if grade == \"A\" :\n",
    "    print(\"Woohoooo congrats ! \")\n",
    "elif grade == \"B\" :\n",
    "    print (\"Good good\")\n",
    "elif grade == \"C\" :\n",
    "    print (\"PASS only\")\n",
    "else:\n",
    "    print ( \"Gone case mate\")\n",
    "    \n",
    "    \n"
   ]
  },
  {
   "cell_type": "code",
   "execution_count": 4,
   "id": "e524fc48",
   "metadata": {},
   "outputs": [
    {
     "ename": "ValueError",
     "evalue": "invalid literal for int() with base 10: 'grade'",
     "output_type": "error",
     "traceback": [
      "\u001b[1;31m---------------------------------------------------------------------------\u001b[0m",
      "\u001b[1;31mValueError\u001b[0m                                Traceback (most recent call last)",
      "Cell \u001b[1;32mIn[4], line 1\u001b[0m\n\u001b[1;32m----> 1\u001b[0m grade \u001b[38;5;241m=\u001b[39m \u001b[38;5;28mint\u001b[39m(\u001b[38;5;124m\"\u001b[39m\u001b[38;5;124mgrade\u001b[39m\u001b[38;5;124m\"\u001b[39m)\n\u001b[0;32m      2\u001b[0m \u001b[38;5;28;01mif\u001b[39;00m (grade) \u001b[38;5;241m<\u001b[39m \u001b[38;5;241m30\u001b[39m :\n\u001b[0;32m      3\u001b[0m     \u001b[38;5;28mprint\u001b[39m(grade \u001b[38;5;241m*\u001b[39m\u001b[38;5;241m2\u001b[39m )\n",
      "\u001b[1;31mValueError\u001b[0m: invalid literal for int() with base 10: 'grade'"
     ]
    }
   ],
   "source": [
    "grade = int(grade)\n",
    "if (grade) < 30 :\n",
    "    print(grade *2 )\n",
    "elif (grade) > 30 and grade < 60 :\n",
    "     print(grade *1.2)\n",
    "else:\n",
    "    print(grade*1)"
   ]
  },
  {
   "cell_type": "code",
   "execution_count": null,
   "id": "0e3cb4ed",
   "metadata": {},
   "outputs": [],
   "source": []
  },
  {
   "cell_type": "code",
   "execution_count": null,
   "id": "1d21f3af",
   "metadata": {},
   "outputs": [],
   "source": []
  },
  {
   "cell_type": "code",
   "execution_count": null,
   "id": "3c5b39ef",
   "metadata": {},
   "outputs": [],
   "source": []
  }
 ],
 "metadata": {
  "kernelspec": {
   "display_name": "Python 3 (ipykernel)",
   "language": "python",
   "name": "python3"
  },
  "language_info": {
   "codemirror_mode": {
    "name": "ipython",
    "version": 3
   },
   "file_extension": ".py",
   "mimetype": "text/x-python",
   "name": "python",
   "nbconvert_exporter": "python",
   "pygments_lexer": "ipython3",
   "version": "3.11.5"
  }
 },
 "nbformat": 4,
 "nbformat_minor": 5
}
