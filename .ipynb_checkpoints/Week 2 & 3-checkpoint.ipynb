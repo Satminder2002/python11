{
 "cells": [
  {
   "cell_type": "code",
   "execution_count": 12,
   "id": "e1ed01b6",
   "metadata": {},
   "outputs": [
    {
     "name": "stdout",
     "output_type": "stream",
     "text": [
      "8.0\n"
     ]
    }
   ],
   "source": [
    "\n",
    "x=64\n",
    "y=2\n",
    "a=2\n",
    "\n",
    "z=x/(y*(a**2))\n",
    "\n",
    "print (z)"
   ]
  },
  {
   "cell_type": "code",
   "execution_count": 3,
   "id": "8c0d2928",
   "metadata": {},
   "outputs": [
    {
     "name": "stdout",
     "output_type": "stream",
     "text": [
      "30\n"
     ]
    }
   ],
   "source": [
    "def sum(a,b) :\n",
    "    return a+b\n",
    "\n",
    "def sub(a,b) :\n",
    "    return a-b\n",
    "\n",
    "def mult(a,b):\n",
    "    return a*b\n",
    "\n",
    "def divi(a,b):\n",
    "    return a/b\n",
    "\n",
    "print(sum(20,10))\n",
    "    \n",
    "    \n"
   ]
  },
  {
   "cell_type": "code",
   "execution_count": null,
   "id": "fcad6373",
   "metadata": {},
   "outputs": [],
   "source": [
    "print"
   ]
  },
  {
   "cell_type": "code",
   "execution_count": 34,
   "id": "ef4f30ae",
   "metadata": {},
   "outputs": [
    {
     "name": "stdout",
     "output_type": "stream",
     "text": [
      "hello\n"
     ]
    }
   ],
   "source": [
    "x=11\n",
    "y=\"2\"\n",
    "\n",
    "if isinstance (x,str) :\n",
    "        print (\"hello\")\n",
    "        \n",
    "else:\n",
    "    print(\"bye\")\n",
    "        "
   ]
  },
  {
   "cell_type": "code",
   "execution_count": null,
   "id": "d528f2f1",
   "metadata": {},
   "outputs": [],
   "source": [
    "x= ['Kishor bin laden' ,'Vinnaaveann' , 'Om Milind']\n",
    "\n",
    "len(x)"
   ]
  },
  {
   "cell_type": "code",
   "execution_count": 25,
   "id": "314b3399",
   "metadata": {
    "scrolled": true
   },
   "outputs": [
    {
     "name": "stdout",
     "output_type": "stream",
     "text": [
      "Vinnaaveann\n"
     ]
    }
   ],
   "source": [
    "student= {\n",
    "    \"name\" : \"Vinnaaveann\",\n",
    "    \"age\" : 9 \n",
    "}\n",
    "\n",
    "print(student[\"name\"])"
   ]
  },
  {
   "cell_type": "code",
   "execution_count": 1,
   "id": "21442d18",
   "metadata": {},
   "outputs": [
    {
     "name": "stdout",
     "output_type": "stream",
     "text": [
      "30\n",
      "-10\n",
      "100.0\n",
      "50.0\n"
     ]
    }
   ],
   "source": [
    "\n",
    "def maths(a,b) :\n",
    "    z= a + b\n",
    "    print (z)\n",
    "    \n",
    "maths (10,20)  \n",
    "\n",
    "def add(a,b) :\n",
    "    z= a - b\n",
    "    print (z)\n",
    "    \n",
    "add(10,20)\n",
    "\n",
    "def add(a,b) :\n",
    "    z= a/(b**2)\n",
    "    print (z)\n",
    "\n",
    "add(400,2)\n",
    "\n",
    "def add(a,b,c,d) :\n",
    "    z= a/(b**2) - c*d \n",
    "    print (z)\n",
    "    \n",
    "add(400,2,5,10)\n",
    "\n"
   ]
  },
  {
   "cell_type": "code",
   "execution_count": 1,
   "id": "b74321bf",
   "metadata": {
    "scrolled": false
   },
   "outputs": [
    {
     "name": "stdout",
     "output_type": "stream",
     "text": [
      "Please enter the name of subjectsoftware\n"
     ]
    },
    {
     "ename": "NameError",
     "evalue": "name 'is_available' is not defined",
     "output_type": "error",
     "traceback": [
      "\u001b[1;31m---------------------------------------------------------------------------\u001b[0m",
      "\u001b[1;31mNameError\u001b[0m                                 Traceback (most recent call last)",
      "Cell \u001b[1;32mIn[1], line 13\u001b[0m\n\u001b[0;32m      7\u001b[0m         \u001b[38;5;28;01mreturn\u001b[39;00m \u001b[38;5;124m\"\u001b[39m\u001b[38;5;124msubject has been removed\u001b[39m\u001b[38;5;124m\"\u001b[39m\n\u001b[0;32m     12\u001b[0m input_subject \u001b[38;5;241m=\u001b[39m\u001b[38;5;28minput\u001b[39m (\u001b[38;5;124m\"\u001b[39m\u001b[38;5;124mPlease enter the name of subject\u001b[39m\u001b[38;5;124m\"\u001b[39m)\n\u001b[1;32m---> 13\u001b[0m \u001b[38;5;28mprint\u001b[39m (subject_availability(input_subject))\n",
      "Cell \u001b[1;32mIn[1], line 4\u001b[0m, in \u001b[0;36msubject_availability\u001b[1;34m(subject_name)\u001b[0m\n\u001b[0;32m      3\u001b[0m \u001b[38;5;28;01mdef\u001b[39;00m \u001b[38;5;21msubject_availability\u001b[39m (subject_name):\n\u001b[1;32m----> 4\u001b[0m     \u001b[38;5;28;01mif\u001b[39;00m(is_available(subject_name)):\n\u001b[0;32m      5\u001b[0m         \u001b[38;5;28;01mreturn\u001b[39;00m \u001b[38;5;124m\"\u001b[39m\u001b[38;5;124mthe subject is available\u001b[39m\u001b[38;5;124m\"\u001b[39m\n\u001b[0;32m      6\u001b[0m     \u001b[38;5;28;01melse\u001b[39;00m:\n",
      "\u001b[1;31mNameError\u001b[0m: name 'is_available' is not defined"
     ]
    }
   ],
   "source": [
    "subjects = [\"software\", \"chemistry\" , \"Spanish\" , \"Marathi\" ]\n",
    "\n",
    "def subject_availability (subject_name):\n",
    "    if(is_available(subject_name)):\n",
    "        return \"the subject is available\"\n",
    "    else:\n",
    "        return \"subject has been removed\"\n",
    "\n",
    "    \n",
    "\n",
    "\n",
    "input_subject =input (\"Please enter the name of subject\")\n",
    "print (subject_availability(input_subject))"
   ]
  },
  {
   "cell_type": "code",
   "execution_count": 27,
   "id": "266e266f",
   "metadata": {},
   "outputs": [
    {
     "name": "stdout",
     "output_type": "stream",
     "text": [
      "0.6666666666666666\n"
     ]
    }
   ],
   "source": [
    "def zaza(a,b,c) :\n",
    "    return a*b/(c)\n",
    "print(zaza(1,2,3))\n"
   ]
  },
  {
   "cell_type": "code",
   "execution_count": 22,
   "id": "9d1a0653",
   "metadata": {},
   "outputs": [
    {
     "name": "stdout",
     "output_type": "stream",
     "text": [
      "126.34666666666666\n"
     ]
    }
   ],
   "source": [
    "a=20\n",
    "b=2\n",
    "c=2/3\n",
    "pie=3.142\n",
    "\n",
    "z=pie*a*b + c\n",
    "\n",
    "print(z)\n"
   ]
  },
  {
   "cell_type": "code",
   "execution_count": 24,
   "id": "6f459eb3",
   "metadata": {},
   "outputs": [
    {
     "name": "stdout",
     "output_type": "stream",
     "text": [
      "0\n"
     ]
    }
   ],
   "source": [
    "def math(z,k) :\n",
    "    g=z**2 -k\n",
    "    print(g)\n",
    "math(2,4)"
   ]
  },
  {
   "cell_type": "code",
   "execution_count": null,
   "id": "9375e6ff",
   "metadata": {},
   "outputs": [],
   "source": []
  }
 ],
 "metadata": {
  "kernelspec": {
   "display_name": "Python 3 (ipykernel)",
   "language": "python",
   "name": "python3"
  },
  "language_info": {
   "codemirror_mode": {
    "name": "ipython",
    "version": 3
   },
   "file_extension": ".py",
   "mimetype": "text/x-python",
   "name": "python",
   "nbconvert_exporter": "python",
   "pygments_lexer": "ipython3",
   "version": "3.11.5"
  }
 },
 "nbformat": 4,
 "nbformat_minor": 5
}
