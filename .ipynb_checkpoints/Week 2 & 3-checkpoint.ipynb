{
 "cells": [
  {
   "cell_type": "code",
   "execution_count": 25,
   "id": "e1ed01b6",
   "metadata": {},
   "outputs": [
    {
     "name": "stdout",
     "output_type": "stream",
     "text": [
      "8.0\n"
     ]
    }
   ],
   "source": [
    "\n",
    "x=64\n",
    "y=2\n",
    "a=2\n",
    "\n",
    "z=x/(y*(a**2))\n",
    "\n",
    "print (z)"
   ]
  },
  {
   "cell_type": "code",
   "execution_count": 27,
   "id": "8c0d2928",
   "metadata": {},
   "outputs": [
    {
     "name": "stdout",
     "output_type": "stream",
     "text": [
      "30\n"
     ]
    }
   ],
   "source": [
    "def sum(a,b) :\n",
    "    z=a^\n",
    "    return a+b\n",
    "\n",
    "def sub(a,b) :\n",
    "    return a-b\n",
    "\n",
    "def mult(a,b):\n",
    "    return a*b\n",
    "\n",
    "def divi(a,b):\n",
    "    return a/b\n",
    "\n",
    "print(sum(20,10))\n",
    "    \n",
    "    \n"
   ]
  },
  {
   "cell_type": "code",
   "execution_count": null,
   "id": "fcad6373",
   "metadata": {},
   "outputs": [],
   "source": [
    "print"
   ]
  },
  {
   "cell_type": "code",
   "execution_count": 34,
   "id": "ef4f30ae",
   "metadata": {},
   "outputs": [
    {
     "name": "stdout",
     "output_type": "stream",
     "text": [
      "hello\n"
     ]
    }
   ],
   "source": [
    "x=11\n",
    "y=\"2\"\n",
    "\n",
    "if isinstance (x,str) :\n",
    "        print (\"hello\")\n",
    "        \n",
    "else:\n",
    "    print(\"bye\")\n",
    "        "
   ]
  },
  {
   "cell_type": "code",
   "execution_count": null,
   "id": "d528f2f1",
   "metadata": {},
   "outputs": [],
   "source": [
    "x= ['Kishor bin laden' ,'Vinnaaveann' , 'Om Milind']\n",
    "\n",
    "len(x)"
   ]
  },
  {
   "cell_type": "code",
   "execution_count": 45,
   "id": "314b3399",
   "metadata": {
    "scrolled": true
   },
   "outputs": [
    {
     "name": "stdout",
     "output_type": "stream",
     "text": [
      "Vinnaaveann\n"
     ]
    }
   ],
   "source": [
    "student= {\n",
    "    \"name\" : \"Vinnaaveann\",\n",
    "    \"age\" : 9\n",
    "    \n",
    "}\n",
    "\n",
    "print(student[\"name\"])"
   ]
  },
  {
   "cell_type": "code",
   "execution_count": 1,
   "id": "21442d18",
   "metadata": {},
   "outputs": [
    {
     "name": "stdout",
     "output_type": "stream",
     "text": [
      "30\n",
      "-10\n",
      "100.0\n",
      "50.0\n"
     ]
    }
   ],
   "source": [
    "\n",
    "def maths(a,b) :\n",
    "    z= a + b\n",
    "    print (z)\n",
    "    \n",
    "maths (10,20)  \n",
    "\n",
    "def add(a,b) :\n",
    "    z= a - b\n",
    "    print (z)\n",
    "    \n",
    "add(10,20)\n",
    "\n",
    "def add(a,b) :\n",
    "    z= a/(b**2)\n",
    "    print (z)\n",
    "\n",
    "add(400,2)\n",
    "\n",
    "def add(a,b,c,d) :\n",
    "    z= a/(b**2) - c*d \n",
    "    print (z)\n",
    "    \n",
    "add(400,2,5,10)\n",
    "\n"
   ]
  },
  {
   "cell_type": "code",
   "execution_count": 13,
   "id": "b74321bf",
   "metadata": {
    "scrolled": false
   },
   "outputs": [
    {
     "name": "stdout",
     "output_type": "stream",
     "text": [
      "Please enter the name of subjectchemistry\n",
      "the subject is available\n"
     ]
    }
   ],
   "source": [
    "subjects = [\"software\", \"chemistry\" , \"Spanish\" , \"Marathi\" ]\n",
    "\n",
    "def subject_availability (subject_name):\n",
    "    if(is_available(subject_name)):\n",
    "        return \"the subject is available\"\n",
    "    else:\n",
    "        return \"subject has been removed\"\n",
    "\n",
    "    \n",
    "def is_available(subject_name):\n",
    "    return subject_name in subjects\n",
    "\n",
    "input_subject =input (\"Please enter the name of subject\")\n",
    "print (subject_availability(input_subject))"
   ]
  },
  {
   "cell_type": "code",
   "execution_count": 6,
   "id": "266e266f",
   "metadata": {
    "collapsed": true
   },
   "outputs": [
    {
     "ename": "NameError",
     "evalue": "name 'Alchemistry' is not defined",
     "output_type": "error",
     "traceback": [
      "\u001b[1;31m---------------------------------------------------------------------------\u001b[0m",
      "\u001b[1;31mNameError\u001b[0m                                 Traceback (most recent call last)",
      "Cell \u001b[1;32mIn[6], line 1\u001b[0m\n\u001b[1;32m----> 1\u001b[0m Alchemistry\n",
      "\u001b[1;31mNameError\u001b[0m: name 'Alchemistry' is not defined"
     ]
    }
   ],
   "source": []
  },
  {
   "cell_type": "code",
   "execution_count": null,
   "id": "9d1a0653",
   "metadata": {},
   "outputs": [],
   "source": []
  },
  {
   "cell_type": "code",
   "execution_count": null,
   "id": "6f459eb3",
   "metadata": {},
   "outputs": [],
   "source": []
  }
 ],
 "metadata": {
  "kernelspec": {
   "display_name": "Python 3 (ipykernel)",
   "language": "python",
   "name": "python3"
  },
  "language_info": {
   "codemirror_mode": {
    "name": "ipython",
    "version": 3
   },
   "file_extension": ".py",
   "mimetype": "text/x-python",
   "name": "python",
   "nbconvert_exporter": "python",
   "pygments_lexer": "ipython3",
   "version": "3.11.5"
  }
 },
 "nbformat": 4,
 "nbformat_minor": 5
}
