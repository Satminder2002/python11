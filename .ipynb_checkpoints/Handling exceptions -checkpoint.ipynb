{
 "cells": [
  {
   "cell_type": "code",
   "execution_count": 4,
   "id": "cc9b79cf",
   "metadata": {},
   "outputs": [
    {
     "name": "stdout",
     "output_type": "stream",
     "text": [
      "u gotta fix up that error boi\n"
     ]
    }
   ],
   "source": [
    "try:\n",
    "    x= 2 + \"2\"\n",
    "except TypeError:\n",
    "    # code that runs if the exception occurs\n",
    "    print(\"u gotta fix up that error boi\")"
   ]
  },
  {
   "cell_type": "code",
   "execution_count": 5,
   "id": "0cfdb20d",
   "metadata": {},
   "outputs": [
    {
     "ename": "TypeError",
     "evalue": "unsupported operand type(s) for +: 'int' and 'str'",
     "output_type": "error",
     "traceback": [
      "\u001b[1;31m---------------------------------------------------------------------------\u001b[0m",
      "\u001b[1;31mTypeError\u001b[0m                                 Traceback (most recent call last)",
      "Cell \u001b[1;32mIn[5], line 1\u001b[0m\n\u001b[1;32m----> 1\u001b[0m x\u001b[38;5;241m=\u001b[39m \u001b[38;5;241m2\u001b[39m \u001b[38;5;241m+\u001b[39m \u001b[38;5;124m\"\u001b[39m\u001b[38;5;124m2\u001b[39m\u001b[38;5;124m\"\u001b[39m\n",
      "\u001b[1;31mTypeError\u001b[0m: unsupported operand type(s) for +: 'int' and 'str'"
     ]
    }
   ],
   "source": [
    "x= 2 + \"2\"\n"
   ]
  },
  {
   "cell_type": "code",
   "execution_count": 9,
   "id": "cb5c74bc",
   "metadata": {},
   "outputs": [
    {
     "name": "stdout",
     "output_type": "stream",
     "text": [
      "please enter a valid number a\n",
      "input data is not a number\n"
     ]
    }
   ],
   "source": [
    "try:\n",
    "    number =int(input(\"please enter a valid number \"))\n",
    "\n",
    "except:\n",
    "    print(\"input data is not a number\")\n"
   ]
  },
  {
   "cell_type": "code",
   "execution_count": 12,
   "id": "8efcb9d5",
   "metadata": {},
   "outputs": [
    {
     "name": "stdout",
     "output_type": "stream",
     "text": [
      "the value is exist in the list \n"
     ]
    }
   ],
   "source": [
    "my_list =[1,2,3]\n",
    "\n",
    "try:\n",
    "    my_list =[10]\n",
    "    print (\"the value is exist in the list \")   \n",
    "    \n",
    "except:\n",
    "    \n",
    "    print (\" number is an error \")"
   ]
  },
  {
   "cell_type": "code",
   "execution_count": 35,
   "id": "34900fc7",
   "metadata": {},
   "outputs": [
    {
     "name": "stdout",
     "output_type": "stream",
     "text": [
      "enter a NUMBER !2\n",
      "input valid input is a NUMBER\n"
     ]
    }
   ],
   "source": [
    "try:\n",
    "    number =int(input(\"enter a NUMBER !\"))\n",
    "\n",
    "except ValueError : \n",
    "    print(\"Your input isnt a NUMBER\")\n",
    "\n",
    "else:\n",
    "    print(\"input valid input is a NUMBER\")"
   ]
  },
  {
   "cell_type": "code",
   "execution_count": null,
   "id": "8f30eeaf",
   "metadata": {},
   "outputs": [],
   "source": [
    "try:\n",
    "    user_input= input (\"Enter a number\")\n",
    "    result = 1/ int(user_input)\n",
    "    \n",
    "    print(result)\n",
    "\n",
    "except ValueError:\n",
    "    print(\"Please enter a valid integer.\")\n",
    "    \n",
    "except ZeroDivisionError:\n",
    "    print(\"Division by zero is not allowed.\")\n"
   ]
  },
  {
   "cell_type": "code",
   "execution_count": 2,
   "id": "70987b0e",
   "metadata": {},
   "outputs": [
    {
     "name": "stdout",
     "output_type": "stream",
     "text": [
      "Enter the first number: 0\n",
      "Enter the second number: 0\n",
      "Enter the operation (+, -, *, /): /\n",
      "Number cannot be divided by zero broooo! \n",
      "Enter the first number: 2\n",
      "Enter the second number: 3\n",
      "Enter the operation (+, -, *, /): *\n",
      "Result: 6.0\n"
     ]
    }
   ],
   "source": [
    "def simple_calculator():\n",
    "    while True:\n",
    "        try:\n",
    "            num1 = float(input(\"Enter the first number: \"))\n",
    "            num2 = float(input(\"Enter the second number: \"))\n",
    "            operation = input(\"Enter the operation (+, -, *, /): \")\n",
    "\n",
    "            if operation not in ['+', '-', '*', '/']:\n",
    "                raise ValueError(\"Invalid operation. Please enter +, -, *, or /.\")\n",
    "\n",
    "            result = 0\n",
    "\n",
    "            if operation == '+':\n",
    "                result = num1 + num2\n",
    "            elif operation == '-':\n",
    "                result = num1 - num2\n",
    "            elif operation == '*':\n",
    "                result = num1 * num2\n",
    "            elif operation == '/':\n",
    "                if num2 == 0:\n",
    "                    raise ZeroDivisionError(\"Cannot divide by zero. Please enter a non-zero second number.\")\n",
    "                result = num1 / num2\n",
    "\n",
    "            print(f\"Result: {result}\")\n",
    "            break\n",
    "\n",
    "        except ValueError :\n",
    "            print(\"Please enter valid numbers and operation. Try again.\")\n",
    "            \n",
    "        except ZeroDivisionError:\n",
    "            print(\"Number cannot be divided by zero broooo! \")\n",
    "        \n",
    "        except Exception:\n",
    "            print(\"An unexpected error occurred. Please try again.\")\n",
    "\n",
    "# Call the function to run the calculator\n",
    "simple_calculator()\n"
   ]
  },
  {
   "cell_type": "code",
   "execution_count": null,
   "id": "ef866169",
   "metadata": {},
   "outputs": [],
   "source": [
    "\n"
   ]
  },
  {
   "cell_type": "code",
   "execution_count": null,
   "id": "3b5fa025",
   "metadata": {},
   "outputs": [],
   "source": []
  }
 ],
 "metadata": {
  "kernelspec": {
   "display_name": "Python 3 (ipykernel)",
   "language": "python",
   "name": "python3"
  },
  "language_info": {
   "codemirror_mode": {
    "name": "ipython",
    "version": 3
   },
   "file_extension": ".py",
   "mimetype": "text/x-python",
   "name": "python",
   "nbconvert_exporter": "python",
   "pygments_lexer": "ipython3",
   "version": "3.11.5"
  }
 },
 "nbformat": 4,
 "nbformat_minor": 5
}
