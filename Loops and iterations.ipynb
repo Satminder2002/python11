{
 "cells": [
  {
   "cell_type": "code",
   "execution_count": 12,
   "id": "7b092d56",
   "metadata": {},
   "outputs": [
    {
     "name": "stdout",
     "output_type": "stream",
     "text": [
      "the item is in tha list heeehe 1\n",
      "the item is in tha list heeehe 7\n"
     ]
    }
   ],
   "source": [
    "fruits = ['apple','orange','banana','durian','peach','rambutan','pineapple']\n",
    "\n",
    "index = 1\n",
    "\n",
    "for item in fruits :\n",
    "    if'apple' in item :\n",
    "        print('the item is in tha list heeehe',index)\n",
    "    index = index + 1\n",
    "    \n"
   ]
  },
  {
   "cell_type": "code",
   "execution_count": 17,
   "id": "d021a691",
   "metadata": {},
   "outputs": [
    {
     "name": "stdout",
     "output_type": "stream",
     "text": [
      "2\n",
      "3\n",
      "4\n",
      "5\n",
      "6\n",
      "7\n",
      "8\n",
      "9\n"
     ]
    }
   ],
   "source": [
    "   for x in range (2,10):\n",
    "        print(x)\n",
    "        "
   ]
  },
  {
   "cell_type": "code",
   "execution_count": 30,
   "id": "0568ac34",
   "metadata": {},
   "outputs": [
    {
     "name": "stdout",
     "output_type": "stream",
     "text": [
      "this is even number :  0\n",
      "this is even number :  2\n",
      "this is even number :  4\n",
      "this is even number :  6\n",
      "this is even number :  8\n"
     ]
    }
   ],
   "source": [
    "count = 0\n",
    "while(count<10):\n",
    "    if count  % 2 == 0 :\n",
    "        \n",
    "        print(\"this is even number : \",count)\n",
    " \n",
    "    count = count +1"
   ]
  },
  {
   "cell_type": "code",
   "execution_count": 35,
   "id": "4d12797f",
   "metadata": {},
   "outputs": [
    {
     "name": "stdout",
     "output_type": "stream",
     "text": [
      "1 1\n",
      "1 2\n",
      "1 3\n",
      "1 4\n",
      "1 5\n",
      "1 6\n",
      "1 7\n",
      "1 8\n",
      "1 9\n",
      "1 10\n",
      "2 1\n",
      "2 2\n",
      "2 3\n",
      "2 4\n",
      "2 5\n",
      "2 6\n",
      "2 7\n",
      "2 8\n",
      "2 9\n",
      "2 10\n",
      "3 1\n",
      "3 2\n",
      "3 3\n",
      "3 4\n",
      "3 5\n",
      "3 6\n",
      "3 7\n",
      "3 8\n",
      "3 9\n",
      "3 10\n",
      "4 1\n",
      "4 2\n",
      "4 3\n",
      "4 4\n",
      "4 5\n",
      "4 6\n",
      "4 7\n",
      "4 8\n",
      "4 9\n",
      "4 10\n",
      "5 1\n",
      "5 2\n",
      "5 3\n",
      "5 4\n",
      "5 5\n",
      "5 6\n",
      "5 7\n",
      "5 8\n",
      "5 9\n",
      "5 10\n",
      "6 1\n",
      "6 2\n",
      "6 3\n",
      "6 4\n",
      "6 5\n",
      "6 6\n",
      "6 7\n",
      "6 8\n",
      "6 9\n",
      "6 10\n",
      "7 1\n",
      "7 2\n",
      "7 3\n",
      "7 4\n",
      "7 5\n",
      "7 6\n",
      "7 7\n",
      "7 8\n",
      "7 9\n",
      "7 10\n",
      "8 1\n",
      "8 2\n",
      "8 3\n",
      "8 4\n",
      "8 5\n",
      "8 6\n",
      "8 7\n",
      "8 8\n",
      "8 9\n",
      "8 10\n",
      "9 1\n",
      "9 2\n",
      "9 3\n",
      "9 4\n",
      "9 5\n",
      "9 6\n",
      "9 7\n",
      "9 8\n",
      "9 9\n",
      "9 10\n",
      "10 1\n",
      "10 2\n",
      "10 3\n",
      "10 4\n",
      "10 5\n",
      "10 6\n",
      "10 7\n",
      "10 8\n",
      "10 9\n",
      "10 10\n"
     ]
    }
   ],
   "source": [
    "for i in  range(1,11):\n",
    "    for j in range (1,11):\n",
    "        print (i,j)"
   ]
  },
  {
   "cell_type": "code",
   "execution_count": 38,
   "id": "421e40c1",
   "metadata": {},
   "outputs": [
    {
     "name": "stdout",
     "output_type": "stream",
     "text": [
      "1 x 1 = 1\n",
      "-----\n",
      "1 x 2 = 2\n",
      "-----\n",
      "1 x 3 = 3\n",
      "-----\n",
      "1 x 4 = 4\n",
      "-----\n",
      "1 x 5 = 5\n",
      "-----\n",
      "2 x 1 = 2\n",
      "-----\n",
      "2 x 2 = 4\n",
      "-----\n",
      "2 x 3 = 6\n",
      "-----\n",
      "2 x 4 = 8\n",
      "-----\n",
      "2 x 5 = 10\n",
      "-----\n",
      "3 x 1 = 3\n",
      "-----\n",
      "3 x 2 = 6\n",
      "-----\n",
      "3 x 3 = 9\n",
      "-----\n",
      "3 x 4 = 12\n",
      "-----\n",
      "3 x 5 = 15\n",
      "-----\n",
      "4 x 1 = 4\n",
      "-----\n",
      "4 x 2 = 8\n",
      "-----\n",
      "4 x 3 = 12\n",
      "-----\n",
      "4 x 4 = 16\n",
      "-----\n",
      "4 x 5 = 20\n",
      "-----\n",
      "5 x 1 = 5\n",
      "-----\n",
      "5 x 2 = 10\n",
      "-----\n",
      "5 x 3 = 15\n",
      "-----\n",
      "5 x 4 = 20\n",
      "-----\n",
      "5 x 5 = 25\n",
      "-----\n"
     ]
    }
   ],
   "source": [
    "for i in  range(1,6):\n",
    "    for j in range (1,6):\n",
    "        print (i,\"x\",j, \"=\",i * j)\n",
    "        print (\"-----\")"
   ]
  },
  {
   "cell_type": "code",
   "execution_count": 39,
   "id": "8c393b90",
   "metadata": {},
   "outputs": [
    {
     "name": "stdout",
     "output_type": "stream",
     "text": [
      "1 x 1 = 1.0\n",
      "-----\n",
      "1 x 2 = 1.0\n",
      "-----\n",
      "1 x 3 = 1.0\n",
      "-----\n",
      "1 x 4 = 1.0\n",
      "-----\n",
      "1 x 5 = 1.0\n",
      "-----\n",
      "2 x 1 = 2.0\n",
      "-----\n",
      "2 x 2 = 4.0\n",
      "-----\n",
      "2 x 3 = 8.0\n",
      "-----\n",
      "2 x 4 = 16.0\n",
      "-----\n",
      "2 x 5 = 32.0\n",
      "-----\n",
      "3 x 1 = 3.0\n",
      "-----\n",
      "3 x 2 = 9.0\n",
      "-----\n",
      "3 x 3 = 27.0\n",
      "-----\n",
      "3 x 4 = 81.0\n",
      "-----\n",
      "3 x 5 = 243.0\n",
      "-----\n",
      "4 x 1 = 4.0\n",
      "-----\n",
      "4 x 2 = 16.0\n",
      "-----\n",
      "4 x 3 = 64.0\n",
      "-----\n",
      "4 x 4 = 256.0\n",
      "-----\n",
      "4 x 5 = 1024.0\n",
      "-----\n",
      "5 x 1 = 5.0\n",
      "-----\n",
      "5 x 2 = 25.0\n",
      "-----\n",
      "5 x 3 = 125.0\n",
      "-----\n",
      "5 x 4 = 625.0\n",
      "-----\n",
      "5 x 5 = 3125.0\n",
      "-----\n"
     ]
    }
   ],
   "source": [
    "import math\n",
    "\n",
    "for i in  range(1,6):\n",
    "    for j in range (1,6):\n",
    "        print (i,\"x\",j, \"=\", math.pow (i,j))\n",
    "        print (\"-----\")"
   ]
  },
  {
   "cell_type": "code",
   "execution_count": null,
   "id": "9f1dfe56",
   "metadata": {},
   "outputs": [],
   "source": []
  }
 ],
 "metadata": {
  "kernelspec": {
   "display_name": "Python 3 (ipykernel)",
   "language": "python",
   "name": "python3"
  },
  "language_info": {
   "codemirror_mode": {
    "name": "ipython",
    "version": 3
   },
   "file_extension": ".py",
   "mimetype": "text/x-python",
   "name": "python",
   "nbconvert_exporter": "python",
   "pygments_lexer": "ipython3",
   "version": "3.11.5"
  }
 },
 "nbformat": 4,
 "nbformat_minor": 5
}
