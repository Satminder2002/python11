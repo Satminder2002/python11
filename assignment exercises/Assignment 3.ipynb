{
 "cells": [
  {
   "cell_type": "code",
   "execution_count": 1,
   "id": "06e4e3dc",
   "metadata": {},
   "outputs": [
    {
     "name": "stdout",
     "output_type": "stream",
     "text": [
      "Enter the first number: 20\n",
      "Enter the second number: 2\n",
      "Enter the operation (+, -, *, /): /\n",
      "Result: 10.0\n"
     ]
    }
   ],
   "source": [
    "def simple_calculator():\n",
    "    while True:\n",
    "        try:\n",
    "            num1 = float(input(\"Enter the first number: \"))\n",
    "            num2 = float(input(\"Enter the second number: \"))\n",
    "            operation = input(\"Enter the operation (+, -, *, /): \")\n",
    "\n",
    "            if operation not in ['+', '-', '*', '/']:\n",
    "                raise ValueError(\"Invalid operation. Please enter +, -, *, or /.\")\n",
    "\n",
    "            result = 0\n",
    "\n",
    "            if operation == '+':\n",
    "                result = num1 + num2\n",
    "            elif operation == '-':\n",
    "                result = num1 - num2\n",
    "            elif operation == '*':\n",
    "                result = num1 * num2\n",
    "            elif operation == '/':\n",
    "                if num2 == 0:\n",
    "                    raise ZeroDivisionError(\"Cannot divide by zero. Please enter a non-zero second number.\")\n",
    "                result = num1 / num2\n",
    "\n",
    "            print(f\"Result: {result}\")\n",
    "            break\n",
    "\n",
    "        except ValueError :\n",
    "            print(\"Please enter valid numbers and operation. Try again.\")\n",
    "            \n",
    "        except ZeroDivisionError:\n",
    "            print(\"Number cannot be divided by zero broooo! \")\n",
    "        \n",
    "        except Exception:\n",
    "            print(\"An unexpected error occurred. Please try again.\")\n",
    "\n",
    "# Call the function to run the calculator\n",
    "simple_calculator()"
   ]
  },
  {
   "cell_type": "code",
   "execution_count": null,
   "id": "2b2605f9",
   "metadata": {},
   "outputs": [],
   "source": []
  }
 ],
 "metadata": {
  "kernelspec": {
   "display_name": "Python 3 (ipykernel)",
   "language": "python",
   "name": "python3"
  },
  "language_info": {
   "codemirror_mode": {
    "name": "ipython",
    "version": 3
   },
   "file_extension": ".py",
   "mimetype": "text/x-python",
   "name": "python",
   "nbconvert_exporter": "python",
   "pygments_lexer": "ipython3",
   "version": "3.11.5"
  }
 },
 "nbformat": 4,
 "nbformat_minor": 5
}
