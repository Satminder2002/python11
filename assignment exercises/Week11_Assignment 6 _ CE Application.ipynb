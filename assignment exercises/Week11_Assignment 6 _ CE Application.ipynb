{
 "cells": [
  {
   "cell_type": "code",
   "execution_count": 9,
   "id": "86a58109",
   "metadata": {},
   "outputs": [
    {
     "name": "stdout",
     "output_type": "stream",
     "text": [
      "Enter the name of the substance: He\n",
      "Enter the partial pressure of He at point 1 (atm): 0.6\n",
      "Enter the partial pressure of He at point 2 (atm): 0.2\n",
      "Enter the diffusivity of He mixture (in scientific notation, e.g., 6.87e-5): 6.87e-5\n",
      "Enter the length of the pipe (m): 0.20\n",
      "Enter the temperature in Kelvin (K): 298\n",
      "The flux of He is: 5.619e-03 mol/(m²·s)\n"
     ]
    }
   ],
   "source": [
    "def atm_to_pa(pressure_atm):\n",
    "    # Conversion factor: 1 atm = 101325 Pa\n",
    "    return pressure_atm * 101325\n",
    "\n",
    "def calculate_flux(pA1, pA2, DAB, length, temperature):\n",
    "    # Constants\n",
    "    R = 8.314  # Universal gas constant (J/(mol·K))\n",
    "\n",
    "    # Convert partial pressures to concentrations using the ideal gas law\n",
    "    cA1 = pA1 / (R * temperature)\n",
    "    cA2 = pA2 / (R * temperature)\n",
    "\n",
    "    # Calculate the concentration gradient\n",
    "    dC_A_dx = (cA2 - cA1) / length\n",
    "\n",
    "    # Calculate the flux using Fick's law\n",
    "    J_A = -DAB * dC_A_dx\n",
    "\n",
    "    return J_A\n",
    "\n",
    "def main():\n",
    "    try:\n",
    "        # Prompt user for input\n",
    "        substance_name = input(\"Enter the name of the substance: \")\n",
    "        pA1_atm = float(input(f\"Enter the partial pressure of {substance_name} at point 1 (atm): \"))\n",
    "        pA2_atm = float(input(f\"Enter the partial pressure of {substance_name} at point 2 (atm): \"))\n",
    "        DAB_scientific_notation = input(f\"Enter the diffusivity of {substance_name} mixture (in scientific notation, e.g., 6.87e-5): \")\n",
    "        length = float(input(\"Enter the length of the pipe (m): \"))\n",
    "        temperature = float(input(\"Enter the temperature in Kelvin (K): \"))\n",
    "\n",
    "        # Convert pressures from atm to Pa\n",
    "        pA1_pa = atm_to_pa(pA1_atm)\n",
    "        pA2_pa = atm_to_pa(pA2_atm)\n",
    "\n",
    "        # Convert the diffusivity from scientific notation\n",
    "        DAB = float(DAB_scientific_notation)\n",
    "\n",
    "        # Calculate the flux of the substance\n",
    "        flux_substance = calculate_flux(pA1_pa, pA2_pa, DAB, length, temperature)\n",
    "\n",
    "        # Display the result in scientific notation\n",
    "        print(f\"The flux of {substance_name} is: {flux_substance:.3e} mol/(m²·s)\")\n",
    "\n",
    "    except ValueError:\n",
    "        print(\"Invalid input. Please enter valid numerical values.\")\n",
    "\n",
    "if __name__ == \"__main__\":\n",
    "    main()"
   ]
  },
  {
   "cell_type": "markdown",
   "id": "772d67c9",
   "metadata": {},
   "source": [
    "###### "
   ]
  }
 ],
 "metadata": {
  "kernelspec": {
   "display_name": "Python 3 (ipykernel)",
   "language": "python",
   "name": "python3"
  },
  "language_info": {
   "codemirror_mode": {
    "name": "ipython",
    "version": 3
   },
   "file_extension": ".py",
   "mimetype": "text/x-python",
   "name": "python",
   "nbconvert_exporter": "python",
   "pygments_lexer": "ipython3",
   "version": "3.11.5"
  }
 },
 "nbformat": 4,
 "nbformat_minor": 5
}
