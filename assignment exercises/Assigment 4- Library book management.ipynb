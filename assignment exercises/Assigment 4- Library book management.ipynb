{
 "cells": [
  {
   "cell_type": "code",
   "execution_count": 2,
   "id": "1fc864c3",
   "metadata": {},
   "outputs": [
    {
     "name": "stdout",
     "output_type": "stream",
     "text": [
      "Checkout Processed by:ALi\n",
      "Books Checked out: \n",
      "-1984\n",
      "-Brave New World\n",
      "Checkout Duration : 2 weeks\n",
      "Additional Checkout Details :\n",
      "-Late Free:$0.25\n",
      "-Renewals Allowed:2\n",
      "Special Conditions for Checkout: \n",
      "-Handle with care\n",
      "-Do not fold\n"
     ]
    }
   ],
   "source": [
    "def checkout_books(librarian_name,*book_titles,duration=\" 2 weeks\",**additional):\n",
    "    print(\"Checkout Processed by:\" + librarian_name)\n",
    "    \n",
    "    print(\"Books Checked out: \")\n",
    "    for title in book_titles:\n",
    "        print(\"-\" + title)\n",
    "        \n",
    "    print(\"Checkout Duration :\" + duration)\n",
    "    \n",
    "    print(\"Additional Checkout Details :\")\n",
    "    \n",
    "    for key,value in additional.items() :\n",
    "        if key != \"special\":\n",
    "            print(\"-\" + key.replace(\"_\",\" \").title() + \":\"  + str(value))\n",
    "            \n",
    "    if \"special\" in additional:\n",
    "        print(\"Special Conditions for Checkout: \")\n",
    "        \n",
    "        for condition in additional[\"special\"]:\n",
    "            print(\"-\" + condition )\n",
    "checkout_books(\"ALi\",\"1984\",\"Brave New World\",Late_Free =\"$0.25\" , Renewals_Allowed= 2 , special =[\"Handle with care\",\"Do not fold\"])"
   ]
  },
  {
   "cell_type": "code",
   "execution_count": null,
   "id": "3948f873",
   "metadata": {},
   "outputs": [],
   "source": []
  }
 ],
 "metadata": {
  "kernelspec": {
   "display_name": "Python 3 (ipykernel)",
   "language": "python",
   "name": "python3"
  },
  "language_info": {
   "codemirror_mode": {
    "name": "ipython",
    "version": 3
   },
   "file_extension": ".py",
   "mimetype": "text/x-python",
   "name": "python",
   "nbconvert_exporter": "python",
   "pygments_lexer": "ipython3",
   "version": "3.11.5"
  }
 },
 "nbformat": 4,
 "nbformat_minor": 5
}
