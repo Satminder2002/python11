{
 "cells": [
  {
   "cell_type": "code",
   "execution_count": 7,
   "id": "fe6e14a4",
   "metadata": {},
   "outputs": [
    {
     "ename": "FileNotFoundError",
     "evalue": "[Errno 2] No such file or directory: 'students.csv'",
     "output_type": "error",
     "traceback": [
      "\u001b[1;31m---------------------------------------------------------------------------\u001b[0m",
      "\u001b[1;31mFileNotFoundError\u001b[0m                         Traceback (most recent call last)",
      "Cell \u001b[1;32mIn[7], line 38\u001b[0m\n\u001b[0;32m     35\u001b[0m         writer\u001b[38;5;241m.\u001b[39mwriterows(filtered_students)\n\u001b[0;32m     37\u001b[0m \u001b[38;5;66;03m# Call the function to filter and write to a new CSV file\u001b[39;00m\n\u001b[1;32m---> 38\u001b[0m filter_students(\u001b[38;5;124m'\u001b[39m\u001b[38;5;124mstudents.csv\u001b[39m\u001b[38;5;124m'\u001b[39m, \u001b[38;5;124m'\u001b[39m\u001b[38;5;124mtop_students.csv\u001b[39m\u001b[38;5;124m'\u001b[39m)\n\u001b[0;32m     40\u001b[0m \u001b[38;5;28mprint\u001b[39m(\u001b[38;5;124mf\u001b[39m\u001b[38;5;124m\"\u001b[39m\u001b[38;5;124mFiltered data has been saved to \u001b[39m\u001b[38;5;124m'\u001b[39m\u001b[38;5;124mtop_students.csv\u001b[39m\u001b[38;5;124m'\u001b[39m\u001b[38;5;124m\"\u001b[39m)\n",
      "Cell \u001b[1;32mIn[7], line 6\u001b[0m, in \u001b[0;36mfilter_students\u001b[1;34m(input_file, output_file)\u001b[0m\n\u001b[0;32m      4\u001b[0m \u001b[38;5;28;01mdef\u001b[39;00m \u001b[38;5;21mfilter_students\u001b[39m(input_file, output_file):\n\u001b[0;32m      5\u001b[0m     \u001b[38;5;66;03m# Open the input CSV file\u001b[39;00m\n\u001b[1;32m----> 6\u001b[0m     \u001b[38;5;28;01mwith\u001b[39;00m \u001b[38;5;28mopen\u001b[39m(input_file, \u001b[38;5;124m'\u001b[39m\u001b[38;5;124mr\u001b[39m\u001b[38;5;124m'\u001b[39m) \u001b[38;5;28;01mas\u001b[39;00m csv_file:\n\u001b[0;32m      7\u001b[0m         \u001b[38;5;66;03m# Create a CSV reader\u001b[39;00m\n\u001b[0;32m      8\u001b[0m         reader \u001b[38;5;241m=\u001b[39m csv\u001b[38;5;241m.\u001b[39mDictReader(csv_file)\n\u001b[0;32m     10\u001b[0m         \u001b[38;5;66;03m# Get the header from the input file\u001b[39;00m\n",
      "File \u001b[1;32m~\\anaconda3\\Lib\\site-packages\\IPython\\core\\interactiveshell.py:286\u001b[0m, in \u001b[0;36m_modified_open\u001b[1;34m(file, *args, **kwargs)\u001b[0m\n\u001b[0;32m    279\u001b[0m \u001b[38;5;28;01mif\u001b[39;00m file \u001b[38;5;129;01min\u001b[39;00m {\u001b[38;5;241m0\u001b[39m, \u001b[38;5;241m1\u001b[39m, \u001b[38;5;241m2\u001b[39m}:\n\u001b[0;32m    280\u001b[0m     \u001b[38;5;28;01mraise\u001b[39;00m \u001b[38;5;167;01mValueError\u001b[39;00m(\n\u001b[0;32m    281\u001b[0m         \u001b[38;5;124mf\u001b[39m\u001b[38;5;124m\"\u001b[39m\u001b[38;5;124mIPython won\u001b[39m\u001b[38;5;124m'\u001b[39m\u001b[38;5;124mt let you open fd=\u001b[39m\u001b[38;5;132;01m{\u001b[39;00mfile\u001b[38;5;132;01m}\u001b[39;00m\u001b[38;5;124m by default \u001b[39m\u001b[38;5;124m\"\u001b[39m\n\u001b[0;32m    282\u001b[0m         \u001b[38;5;124m\"\u001b[39m\u001b[38;5;124mas it is likely to crash IPython. If you know what you are doing, \u001b[39m\u001b[38;5;124m\"\u001b[39m\n\u001b[0;32m    283\u001b[0m         \u001b[38;5;124m\"\u001b[39m\u001b[38;5;124myou can use builtins\u001b[39m\u001b[38;5;124m'\u001b[39m\u001b[38;5;124m open.\u001b[39m\u001b[38;5;124m\"\u001b[39m\n\u001b[0;32m    284\u001b[0m     )\n\u001b[1;32m--> 286\u001b[0m \u001b[38;5;28;01mreturn\u001b[39;00m io_open(file, \u001b[38;5;241m*\u001b[39margs, \u001b[38;5;241m*\u001b[39m\u001b[38;5;241m*\u001b[39mkwargs)\n",
      "\u001b[1;31mFileNotFoundError\u001b[0m: [Errno 2] No such file or directory: 'students.csv'"
     ]
    }
   ],
   "source": [
    "import csv\n",
    "\n",
    "# Function to filter students based on grade\n",
    "def filter_students(input_file, output_file):\n",
    "    # Open the input CSV file\n",
    "    with open(input_file, 'r') as csv_file:\n",
    "        # Create a CSV reader\n",
    "        reader = csv.DictReader(csv_file)\n",
    "\n",
    "        # Get the header from the input file\n",
    "        header = reader.fieldnames\n",
    "\n",
    "        # Create a list to store filtered student data\n",
    "        filtered_students = []\n",
    "\n",
    "        # Iterate through each row in the input file\n",
    "        for row in reader:\n",
    "            # Check if the grade is 'B' or higher\n",
    "            if row['Grade'] >= 'B':\n",
    "                # Add a 'Status' column with value 'Passed'\n",
    "                row['Status'] = 'Passed'\n",
    "\n",
    "                # Add the filtered row to the list\n",
    "                filtered_students.append(row)\n",
    "\n",
    "    # Open the output CSV file\n",
    "    with open(output_file, 'w', newline='') as csv_output:\n",
    "        # Create a CSV writer\n",
    "        writer = csv.DictWriter(csv_output, fieldnames=header + ['Status'])\n",
    "\n",
    "        # Write the header to the output file\n",
    "        writer.writeheader()\n",
    "\n",
    "        # Write the filtered student data to the output file\n",
    "        writer.writerows(filtered_students)\n",
    "\n",
    "# Call the function to filter and write to a new CSV file\n",
    "filter_students('students.csv', 'top_students.csv')\n",
    "\n",
    "print(f\"Filtered data has been saved to 'top_students.csv'\")"
   ]
  },
  {
   "cell_type": "code",
   "execution_count": null,
   "id": "bd46371f",
   "metadata": {},
   "outputs": [],
   "source": []
  }
 ],
 "metadata": {
  "kernelspec": {
   "display_name": "Python 3 (ipykernel)",
   "language": "python",
   "name": "python3"
  },
  "language_info": {
   "codemirror_mode": {
    "name": "ipython",
    "version": 3
   },
   "file_extension": ".py",
   "mimetype": "text/x-python",
   "name": "python",
   "nbconvert_exporter": "python",
   "pygments_lexer": "ipython3",
   "version": "3.11.5"
  }
 },
 "nbformat": 4,
 "nbformat_minor": 5
}
