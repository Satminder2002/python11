{
 "cells": [
  {
   "cell_type": "code",
   "execution_count": 3,
   "id": "bd46371f",
   "metadata": {},
   "outputs": [
    {
     "name": "stdout",
     "output_type": "stream",
     "text": [
      "Filtered data saved to top_students.csv\n"
     ]
    }
   ],
   "source": [
    "import csv\n",
    "\n",
    "def read_csv(filename):\n",
    "    data = []\n",
    "    with open(filename, 'r') as csvfile:\n",
    "        reader = csv.DictReader(csvfile)\n",
    "        for row in reader:\n",
    "            data.append(row)\n",
    "    return data\n",
    "\n",
    "\n",
    "def filter_students(data):\n",
    "    filtered_data = []\n",
    "    for student in data:\n",
    "        if student['Grade'] <= 'B':\n",
    "            filtered_data.append(student)\n",
    "    return filtered_data\n",
    "\n",
    "\n",
    "def add_status_column(data):\n",
    "    for student in data:\n",
    "        student['Status'] = 'Passed'\n",
    "    return data\n",
    "\n",
    "\n",
    "def write_csv(data, output_filename):\n",
    "    fieldnames = data[0].keys()\n",
    "    with open(output_filename, 'w', newline='') as csvfile:\n",
    "        writer = csv.DictWriter(csvfile, fieldnames=fieldnames)\n",
    "        writer.writeheader()\n",
    "        writer.writerows(data)\n",
    "\n",
    "if __name__ == \"__main__\":\n",
    "    input_filename = \"students.csv\"\n",
    "    output_filename = \"top_students.csv\"\n",
    "\n",
    "    student_data = read_csv(input_filename)\n",
    "    filtered_students = filter_students(student_data)\n",
    "    students_with_status = add_status_column(filtered_students)\n",
    "    write_csv(students_with_status, output_filename)\n",
    "\n",
    "    print(\"Filtered data saved to \" + output_filename)"
   ]
  },
  {
   "cell_type": "code",
   "execution_count": 5,
   "id": "72ab0b64",
   "metadata": {},
   "outputs": [
    {
     "name": "stdout",
     "output_type": "stream",
     "text": [
      "Enter the name of the state: Perlis\n",
      "Population of Perlis: 255400\n"
     ]
    }
   ],
   "source": [
    "import requests\n",
    "\n",
    "api_url = \"https://jian.sh/malaysia-api/state/v1/all.json\"\n",
    "response = requests.get(api_url)\n",
    "malaysia_state_data = response.json()\n",
    "statename=input(\"Enter the name of the state: \")\n",
    "\n",
    "found = False\n",
    "\n",
    "for state in malaysia_state_data:\n",
    "        if statename == state[\"state\"]:\n",
    "            print(\"Population of \" + statename +\": \" + str(state[\"population\"]))\n",
    "            found = True\n",
    "            break\n",
    "            \n",
    "if found == False:           \n",
    "    print(statename + \" is not found in the data.\")"
   ]
  },
  {
   "cell_type": "code",
   "execution_count": null,
   "id": "e1e822be",
   "metadata": {},
   "outputs": [],
   "source": []
  }
 ],
 "metadata": {
  "kernelspec": {
   "display_name": "Python 3 (ipykernel)",
   "language": "python",
   "name": "python3"
  },
  "language_info": {
   "codemirror_mode": {
    "name": "ipython",
    "version": 3
   },
   "file_extension": ".py",
   "mimetype": "text/x-python",
   "name": "python",
   "nbconvert_exporter": "python",
   "pygments_lexer": "ipython3",
   "version": "3.11.5"
  }
 },
 "nbformat": 4,
 "nbformat_minor": 5
}
