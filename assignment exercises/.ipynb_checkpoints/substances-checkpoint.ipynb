{
 "cells": [
  {
   "cell_type": "code",
   "execution_count": 1,
   "id": "97409ca5",
   "metadata": {},
   "outputs": [],
   "source": [
    "# substances.py\n",
    "\n",
    "substance_diffusivity = {\n",
    "    'He': 0.687e-4,\n",
    "    'N2': 0.456e-4,\n",
    "    'O2': 0.589e-4,\n",
    "    'CO2': 0.382e-4,\n",
    "    'H2': 0.832e-4,\n",
    "    'CH4': 0.487e-4,\n",
    "    'C2H6': 0.329e-4,\n",
    "    # Add more substances and their diffusivity values as needed\n",
    "}"
   ]
  },
  {
   "cell_type": "code",
   "execution_count": null,
   "id": "39fc95c2",
   "metadata": {},
   "outputs": [],
   "source": []
  }
 ],
 "metadata": {
  "kernelspec": {
   "display_name": "Python 3 (ipykernel)",
   "language": "python",
   "name": "python3"
  },
  "language_info": {
   "codemirror_mode": {
    "name": "ipython",
    "version": 3
   },
   "file_extension": ".py",
   "mimetype": "text/x-python",
   "name": "python",
   "nbconvert_exporter": "python",
   "pygments_lexer": "ipython3",
   "version": "3.11.5"
  }
 },
 "nbformat": 4,
 "nbformat_minor": 5
}
