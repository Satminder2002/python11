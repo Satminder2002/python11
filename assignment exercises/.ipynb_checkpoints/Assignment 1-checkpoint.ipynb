{
 "cells": [
  {
   "cell_type": "code",
   "execution_count": 1,
   "id": "5941dfee",
   "metadata": {},
   "outputs": [
    {
     "name": "stdout",
     "output_type": "stream",
     "text": [
      "30\n",
      "-10\n",
      "100.0\n",
      "50.0\n"
     ]
    }
   ],
   "source": [
    "\n",
    "def maths(a,b) :\n",
    "    z= a + b\n",
    "    print (z)\n",
    "    \n",
    "maths (10,20)  \n",
    "\n",
    "def add(a,b) :\n",
    "    z= a - b\n",
    "    print (z)\n",
    "    \n",
    "add(10,20)\n",
    "\n",
    "def add(a,b) :\n",
    "    z= a/(b**2)\n",
    "    print (z)\n",
    "\n",
    "add(400,2)\n",
    "\n",
    "def add(a,b,c,d) :\n",
    "    z= a/(b**2) - c*d \n",
    "    print (z)\n",
    "    \n",
    "add(400,2,5,10)\n"
   ]
  },
  {
   "cell_type": "code",
   "execution_count": 9,
   "id": "f64441ba",
   "metadata": {},
   "outputs": [
    {
     "name": "stdout",
     "output_type": "stream",
     "text": [
      "Please enter the name of the subject you're looking for: Chemistry\n",
      "Sorry, the subject isn't available.\n"
     ]
    }
   ],
   "source": [
    "subjects = [\"Mathematics\", \"Physics\", \"Bahasa Melayu\", \"English\"]\n",
    "\n",
    "def subject_availability(subject_name):\n",
    "    if is_availability(subject_name):\n",
    "        return \"The subject is available.\"\n",
    "    else:\n",
    "        return \"Sorry, the subject isn't available.\"\n",
    "\n",
    "def is_availability(subject_name):\n",
    "    return subject_name in subjects\n",
    "\n",
    "input_subject = input(\"Please enter the name of the subject you're looking for: \")\n",
    "print(subject_availability(input_subject))"
   ]
  },
  {
   "cell_type": "code",
   "execution_count": null,
   "id": "da280fcf",
   "metadata": {},
   "outputs": [],
   "source": []
  }
 ],
 "metadata": {
  "kernelspec": {
   "display_name": "Python 3 (ipykernel)",
   "language": "python",
   "name": "python3"
  },
  "language_info": {
   "codemirror_mode": {
    "name": "ipython",
    "version": 3
   },
   "file_extension": ".py",
   "mimetype": "text/x-python",
   "name": "python",
   "nbconvert_exporter": "python",
   "pygments_lexer": "ipython3",
   "version": "3.11.5"
  }
 },
 "nbformat": 4,
 "nbformat_minor": 5
}
