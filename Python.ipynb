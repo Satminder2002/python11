{
 "cells": [
  {
   "cell_type": "code",
   "execution_count": 6,
   "id": "3ae61658",
   "metadata": {},
   "outputs": [
    {
     "name": "stdout",
     "output_type": "stream",
     "text": [
      "A\n",
      "Woohoooo congrats ! \n"
     ]
    }
   ],
   "source": [
    "grade= input()\n",
    "\n",
    "if grade == \"A\" :\n",
    "    print(\"Woohoooo congrats ! \")\n",
    "elif grade == \"B\" :\n",
    "    print (\"Good good\")\n",
    "elif grade == \"C\" :\n",
    "    print (\"PASS only\")\n",
    "else:\n",
    "    print ( \"Gone case mate\")\n",
    "    \n",
    "    \n"
   ]
  },
  {
   "cell_type": "code",
   "execution_count": 7,
   "id": "e524fc48",
   "metadata": {},
   "outputs": [
    {
     "ename": "ValueError",
     "evalue": "invalid literal for int() with base 10: 'A'",
     "output_type": "error",
     "traceback": [
      "\u001b[1;31m---------------------------------------------------------------------------\u001b[0m",
      "\u001b[1;31mValueError\u001b[0m                                Traceback (most recent call last)",
      "Cell \u001b[1;32mIn[7], line 1\u001b[0m\n\u001b[1;32m----> 1\u001b[0m grade \u001b[38;5;241m=\u001b[39m \u001b[38;5;28minput\u001b[39m (\u001b[38;5;28mint\u001b[39m(grade))\n\u001b[0;32m      2\u001b[0m \u001b[38;5;28;01mif\u001b[39;00m (grade) \u001b[38;5;241m<\u001b[39m \u001b[38;5;241m30\u001b[39m :\n\u001b[0;32m      3\u001b[0m     \u001b[38;5;28mprint\u001b[39m(grade \u001b[38;5;241m*\u001b[39m\u001b[38;5;241m2\u001b[39m )\n",
      "\u001b[1;31mValueError\u001b[0m: invalid literal for int() with base 10: 'A'"
     ]
    }
   ],
   "source": [
    "grade = int(grade)\n",
    "if (grade) < 30 :\n",
    "    print(grade *2 )\n",
    "elif (grade) > 30 and grade < 60 :\n",
    "     print(grade *1.2)\n",
    "else:\n",
    "    print(grade*1)"
   ]
  },
  {
   "cell_type": "code",
   "execution_count": 14,
   "id": "0e3cb4ed",
   "metadata": {},
   "outputs": [
    {
     "name": "stdout",
     "output_type": "stream",
     "text": [
      "Enter the grade: A\n",
      "Invalid input: 'A' is not a numeric grade.\n"
     ]
    }
   ],
   "source": [
    "grade_str = input(\"Enter the grade: \")\n",
    "\n",
    "try:\n",
    "    # Try to convert the input to an integer\n",
    "    grade = int(grade_str)\n",
    "\n",
    "    if grade < 30:\n",
    "        print(grade * 2)\n",
    "    elif 30 <= grade < 60:\n",
    "        print(grade * 1.2)\n",
    "    else:\n",
    "        print(grade)\n",
    "\n",
    "except ValueError:\n",
    "    # Handle the case where the input is not a valid integer\n",
    "    print(f\"Invalid input: '{grade_str}' is not a numeric grade.\")"
   ]
  },
  {
   "cell_type": "code",
   "execution_count": null,
   "id": "1d21f3af",
   "metadata": {},
   "outputs": [],
   "source": []
  },
  {
   "cell_type": "code",
   "execution_count": null,
   "id": "3c5b39ef",
   "metadata": {},
   "outputs": [],
   "source": []
  }
 ],
 "metadata": {
  "kernelspec": {
   "display_name": "Python 3 (ipykernel)",
   "language": "python",
   "name": "python3"
  },
  "language_info": {
   "codemirror_mode": {
    "name": "ipython",
    "version": 3
   },
   "file_extension": ".py",
   "mimetype": "text/x-python",
   "name": "python",
   "nbconvert_exporter": "python",
   "pygments_lexer": "ipython3",
   "version": "3.11.5"
  }
 },
 "nbformat": 4,
 "nbformat_minor": 5
}
