{
 "cells": [
  {
   "cell_type": "code",
   "execution_count": 27,
   "id": "3ae61658",
   "metadata": {},
   "outputs": [
    {
     "name": "stdout",
     "output_type": "stream",
     "text": [
      "80\n",
      "Gone case mate\n"
     ]
    }
   ],
   "source": [
    "grade= int(input())\n",
    "\n",
    "if grade == \"A\" :\n",
    "    print(\"Woohoooo congrats ! \")\n",
    "elif grade == \"B\" :\n",
    "    print (\"Good good\")\n",
    "elif grade == \"C\" :\n",
    "    print (\"PASS only\")\n",
    "else:\n",
    "    print ( \"Gone case mate\")\n",
    "    \n",
    "    \n"
   ]
  },
  {
   "cell_type": "code",
   "execution_count": 28,
   "id": "e524fc48",
   "metadata": {},
   "outputs": [
    {
     "name": "stdout",
     "output_type": "stream",
     "text": [
      "80\n"
     ]
    }
   ],
   "source": [
    "grade = int(grade)\n",
    "if (grade) < 30 :\n",
    "    print(grade *2 )\n",
    "elif (grade) > 30 and grade < 60 :\n",
    "     print(grade *1.2)\n",
    "else:\n",
    "    print(grade*1)"
   ]
  },
  {
   "cell_type": "code",
   "execution_count": null,
   "id": "0e3cb4ed",
   "metadata": {},
   "outputs": [],
   "source": []
  },
  {
   "cell_type": "code",
   "execution_count": null,
   "id": "1d21f3af",
   "metadata": {},
   "outputs": [],
   "source": []
  },
  {
   "cell_type": "code",
   "execution_count": null,
   "id": "3c5b39ef",
   "metadata": {},
   "outputs": [],
   "source": []
  }
 ],
 "metadata": {
  "kernelspec": {
   "display_name": "Python 3 (ipykernel)",
   "language": "python",
   "name": "python3"
  },
  "language_info": {
   "codemirror_mode": {
    "name": "ipython",
    "version": 3
   },
   "file_extension": ".py",
   "mimetype": "text/x-python",
   "name": "python",
   "nbconvert_exporter": "python",
   "pygments_lexer": "ipython3",
   "version": "3.11.5"
  }
 },
 "nbformat": 4,
 "nbformat_minor": 5
}
